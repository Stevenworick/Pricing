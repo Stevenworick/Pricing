{
 "cells": [
  {
   "cell_type": "markdown",
   "metadata": {},
   "source": [
    "### Replication : Short Put Down & In ATM"
   ]
  },
  {
   "cell_type": "code",
   "execution_count": 1,
   "metadata": {},
   "outputs": [],
   "source": [
    "import pandas as pd\n",
    "import matplotlib.pyplot as plt\n",
    "from configuration import ConfigurationBuilder\n",
    "from pricing import BlackScholesMerton, GeometricBrownianMotion"
   ]
  },
  {
   "cell_type": "code",
   "execution_count": 2,
   "metadata": {},
   "outputs": [],
   "source": [
    "configuration = ConfigurationBuilder(\n",
    "    kind='put',\n",
    "    spot=100.0,\n",
    "    sigma=0.2,\n",
    "    maturity=365,\n",
    "    risk_free_rate=0,\n",
    "    dividend_yield=0,\n",
    ")"
   ]
  },
  {
   "cell_type": "markdown",
   "metadata": {},
   "source": [
    "#### With Black Scholes Merton"
   ]
  },
  {
   "cell_type": "code",
   "execution_count": 3,
   "metadata": {},
   "outputs": [],
   "source": [
    "shift = 1\n",
    "barrier = 70\n",
    "\n",
    "configuration.strike = barrier\n",
    "option_1 = BlackScholesMerton(configuration)\n",
    "\n",
    "configuration.strike = barrier -shift\n",
    "option_2 = BlackScholesMerton(configuration)"
   ]
  },
  {
   "cell_type": "code",
   "execution_count": 4,
   "metadata": {},
   "outputs": [],
   "source": [
    "quantity = (configuration.spot - barrier) / shift"
   ]
  },
  {
   "cell_type": "code",
   "execution_count": 5,
   "metadata": {},
   "outputs": [],
   "source": [
    "pdi = (option_2 * quantity) - (option_1 * (quantity + 1))"
   ]
  },
  {
   "cell_type": "code",
   "execution_count": 6,
   "metadata": {},
   "outputs": [
    {
     "name": "stdout",
     "output_type": "stream",
     "text": [
      "price 1.5326268851455982\n",
      "delta 0.16638636089748116\n",
      "gamma -0.016485408717591188\n",
      "vega -0.32970817435182354\n",
      "theta 0.009033100667173256\n",
      "rho 0.18171262974893732\n"
     ]
    }
   ],
   "source": [
    "print('price', abs(pdi.price()))\n",
    "print('delta', pdi.delta())\n",
    "print('gamma', pdi.gamma())\n",
    "print('vega', pdi.vega())\n",
    "print('theta', pdi.theta())\n",
    "print('rho', pdi.rho())"
   ]
  },
  {
   "cell_type": "markdown",
   "metadata": {},
   "source": [
    "#### With Geometric Brownian Motion"
   ]
  },
  {
   "cell_type": "code",
   "execution_count": 7,
   "metadata": {},
   "outputs": [],
   "source": [
    "configuration.strike = configuration.spot\n",
    "configuration.simulation = 10000\n",
    "configuration.steps = 365\n",
    "gbm_pricing = GeometricBrownianMotion(configuration)\n",
    "gbm_pricing.run_simulation()"
   ]
  },
  {
   "cell_type": "code",
   "execution_count": 8,
   "metadata": {},
   "outputs": [
    {
     "data": {
      "text/plain": [
       "1.6190354904650675"
      ]
     },
     "execution_count": 8,
     "metadata": {},
     "output_type": "execute_result"
    }
   ],
   "source": [
    "gbm_pricing.put_down_in(barrier=barrier)"
   ]
  },
  {
   "cell_type": "raw",
   "metadata": {},
   "source": [
    "Note :\n",
    "Theorically the price of the PDI should be close to 1.60 but with a shift of 1 we have a price close to 1.53.\n",
    "This mean that the seller of the put will have less premium due to 'technical cost'."
   ]
  },
  {
   "cell_type": "markdown",
   "metadata": {},
   "source": [
    "### Put Knock In can be activated at any time (not only at maturity)"
   ]
  },
  {
   "cell_type": "raw",
   "metadata": {},
   "source": [
    "Note :\n",
    "Intuitively, we could say that the knock-in feature makes the strategy riskier and therefore we expect a higher premium than 1.61"
   ]
  },
  {
   "cell_type": "code",
   "execution_count": 9,
   "metadata": {},
   "outputs": [
    {
     "data": {
      "text/plain": [
       "2.5014732921844707"
      ]
     },
     "execution_count": 9,
     "metadata": {},
     "output_type": "execute_result"
    }
   ],
   "source": [
    "gbm_pricing.put_knock_in(barrier=70)"
   ]
  },
  {
   "cell_type": "markdown",
   "metadata": {},
   "source": [
    "### Sensitivity : Short Put Down & In"
   ]
  },
  {
   "cell_type": "code",
   "execution_count": null,
   "metadata": {},
   "outputs": [],
   "source": [
    "init_spot = 100\n",
    "\n",
    "data = []\n",
    "\n",
    "for maturity, sigma in ((365, 0.2), (365, 0.05), (120, 0.20)):\n",
    "    for spot in range(10, 190):\n",
    "        \n",
    "        # Configuration ---------------------------\n",
    "        \n",
    "        configuration.maturity = maturity\n",
    "        configuration.sigma = sigma\n",
    "        configuration.spot = spot\n",
    "\n",
    "        # Option Strip ----------------------------\n",
    "\n",
    "        configuration.strike = barrier\n",
    "        option_1 = BlackScholesMerton(configuration)\n",
    "\n",
    "        configuration.strike = barrier -shift\n",
    "        option_2 = BlackScholesMerton(configuration)\n",
    "\n",
    "        pdi = (option_1 * -(quantity + 1)) + (option_2 * quantity)\n",
    "\n",
    "        # Retrieve Result ---------------------------\n",
    "\n",
    "        data.append({\"spot\": spot,\n",
    "                     \"maturity\": maturity,\n",
    "                     \"sigma\": sigma,\n",
    "                     \"price\": abs(pdi.price()),\n",
    "                     \"delta\": pdi.delta(),\n",
    "                     \"gamma\": pdi.gamma(),\n",
    "                     \"vega\": pdi.vega(),\n",
    "                     \"theta\": pdi.theta(),\n",
    "                     \"rho\": pdi.rho()})\n",
    "\n",
    "# Reshape data ----------------------------------------\n",
    "\n",
    "data = pd.DataFrame(data)\n",
    "reference = data[(data[\"maturity\"]==365) & (data[\"sigma\"]==0.2)].set_index(\"spot\")\n",
    "short_sigma = data[(data[\"maturity\"]==365) & (data[\"sigma\"]==0.05)].set_index(\"spot\")\n",
    "short_maturity = data[(data[\"maturity\"]==120) & (data[\"sigma\"]==0.20)].set_index(\"spot\")"
   ]
  },
  {
   "cell_type": "code",
   "execution_count": null,
   "metadata": {},
   "outputs": [],
   "source": [
    "price = pd.DataFrame()\n",
    "price[\"sigma  20 maturity  365\"] = reference[\"price\"]\n",
    "price[\"sigma  5 maturity  365\"] = short_sigma[\"price\"]\n",
    "price[\"sigma  20 maturity  120\"] = short_maturity[\"price\"]\n",
    "\n",
    "delta = pd.DataFrame()\n",
    "delta[\"sigma  20 maturity  365\"] = reference[\"delta\"]\n",
    "delta[\"sigma  5 maturity  365\"] = short_sigma[\"delta\"]\n",
    "delta[\"sigma  20 maturity  120\"] = short_maturity[\"delta\"]\n",
    "\n",
    "gamma = pd.DataFrame()\n",
    "gamma[\"sigma  20 maturity  365\"] = reference[\"gamma\"]\n",
    "gamma[\"sigma  5 maturity  365\"] = short_sigma[\"gamma\"]\n",
    "gamma[\"sigma  20 maturity  120\"] = short_maturity[\"gamma\"]\n",
    "\n",
    "vega = pd.DataFrame()\n",
    "vega[\"sigma  20 maturity  365\"] = reference[\"vega\"]\n",
    "vega[\"sigma  5 maturity  365\"] = short_sigma[\"vega\"]\n",
    "vega[\"sigma  20 maturity  120\"] = short_maturity[\"vega\"]\n",
    "\n",
    "theta = pd.DataFrame()\n",
    "theta[\"sigma  20 maturity  365\"] = reference[\"theta\"]\n",
    "theta[\"sigma  5 maturity  365\"] = short_sigma[\"theta\"]\n",
    "theta[\"sigma  20 maturity  120\"] = short_maturity[\"theta\"]\n",
    "\n",
    "rho = pd.DataFrame()\n",
    "rho[\"sigma  20 maturity  365\"] = reference[\"rho\"]\n",
    "rho[\"sigma  5 maturity  365\"] = short_sigma[\"rho\"]\n",
    "rho[\"sigma  20 maturity  120\"] = short_maturity[\"rho\"]"
   ]
  },
  {
   "cell_type": "code",
   "execution_count": null,
   "metadata": {},
   "outputs": [],
   "source": [
    "fig, axes = plt.subplots(nrows=3, ncols=2)\n",
    "\n",
    "price.plot(ax=axes[0, 0], title='Price', grid=True, legend=True)\n",
    "\n",
    "delta.plot(ax=axes[0, 1], title='Delta', grid=True, legend=True)\n",
    "\n",
    "gamma.plot(ax=axes[1, 0], title='Gamma', grid=True, legend=True)\n",
    "\n",
    "vega.plot(ax=axes[1, 1], title='Vega', grid=True, legend=True)\n",
    "\n",
    "theta.plot(ax=axes[2, 0], title='Theta', grid=True, legend=True)\n",
    "\n",
    "rho.plot(ax=axes[2, 1], title='Rho', grid=True, legend=True)\n",
    "\n",
    "fig.set_figheight(15)\n",
    "fig.set_figwidth(15);"
   ]
  }
 ],
 "metadata": {
  "kernelspec": {
   "display_name": "Python 3",
   "language": "python",
   "name": "python3"
  },
  "language_info": {
   "codemirror_mode": {
    "name": "ipython",
    "version": 3
   },
   "file_extension": ".py",
   "mimetype": "text/x-python",
   "name": "python",
   "nbconvert_exporter": "python",
   "pygments_lexer": "ipython3",
   "version": "3.8.5"
  }
 },
 "nbformat": 4,
 "nbformat_minor": 4
}
