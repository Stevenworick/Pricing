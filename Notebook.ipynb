{
 "cells": [
  {
   "cell_type": "code",
   "execution_count": 1,
   "metadata": {},
   "outputs": [],
   "source": [
    "from configuration import ConfigurationBuilder\n",
    "from pricing import BlackScholesMerton, GeometricBrownianMotion"
   ]
  },
  {
   "cell_type": "markdown",
   "metadata": {},
   "source": [
    "### Replication : Put Down & In"
   ]
  },
  {
   "cell_type": "code",
   "execution_count": 2,
   "metadata": {},
   "outputs": [],
   "source": [
    "configuration = ConfigurationBuilder(\n",
    "    kind='put',\n",
    "    spot=100.0,\n",
    "    sigma=0.30,\n",
    "    maturity=365,\n",
    "    risk_free_rate=0,\n",
    "    dividend_yield=0,\n",
    ")"
   ]
  },
  {
   "cell_type": "code",
   "execution_count": 3,
   "metadata": {},
   "outputs": [],
   "source": [
    "barrier = 70\n",
    "shift = 3\n",
    "\n",
    "configuration.strike = barrier\n",
    "option_1 = BlackScholesMerton(configuration)\n",
    "\n",
    "configuration.strike = barrier - shift\n",
    "option_2 = BlackScholesMerton(configuration)"
   ]
  },
  {
   "cell_type": "code",
   "execution_count": 4,
   "metadata": {},
   "outputs": [
    {
     "data": {
      "text/plain": [
       "10.0"
      ]
     },
     "execution_count": 4,
     "metadata": {},
     "output_type": "execute_result"
    }
   ],
   "source": [
    "q = (configuration.spot - barrier) / shift\n",
    "q"
   ]
  },
  {
   "cell_type": "code",
   "execution_count": 5,
   "metadata": {},
   "outputs": [],
   "source": [
    "pdi = (option_1 * -1) * (q + 1) + option_2 * q"
   ]
  },
  {
   "cell_type": "code",
   "execution_count": 6,
   "metadata": {},
   "outputs": [
    {
     "data": {
      "text/plain": [
       "(-5.43202077982245,\n",
       " 0.30547008306025203,\n",
       " -0.015535227460800653,\n",
       " -0.4660568238240195,\n",
       " 0.019153020157151493,\n",
       " 0.35979029085847636)"
      ]
     },
     "execution_count": 6,
     "metadata": {},
     "output_type": "execute_result"
    }
   ],
   "source": [
    "(pdi.price(), pdi.delta(), pdi.gamma(), pdi.vega(), pdi.theta(), pdi.rho())"
   ]
  },
  {
   "cell_type": "code",
   "execution_count": 7,
   "metadata": {},
   "outputs": [],
   "source": [
    "configuration.strike = configuration.spot\n",
    "configuration.simulation = 40000\n",
    "configuration.steps = 365\n",
    "gbm_pricing = GeometricBrownianMotion(configuration)\n",
    "gbm_pricing.run_simulation()"
   ]
  },
  {
   "cell_type": "code",
   "execution_count": 9,
   "metadata": {},
   "outputs": [
    {
     "data": {
      "text/plain": [
       "5.700760272824762"
      ]
     },
     "execution_count": 9,
     "metadata": {},
     "output_type": "execute_result"
    }
   ],
   "source": [
    "gbm_pricing.put_down_in(barrier=barrier)"
   ]
  }
 ],
 "metadata": {
  "kernelspec": {
   "display_name": "Python 3",
   "language": "python",
   "name": "python3"
  },
  "language_info": {
   "codemirror_mode": {
    "name": "ipython",
    "version": 3
   },
   "file_extension": ".py",
   "mimetype": "text/x-python",
   "name": "python",
   "nbconvert_exporter": "python",
   "pygments_lexer": "ipython3",
   "version": "3.8.5"
  }
 },
 "nbformat": 4,
 "nbformat_minor": 4
}
