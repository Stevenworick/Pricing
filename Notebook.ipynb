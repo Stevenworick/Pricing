{
 "cells": [
  {
   "cell_type": "code",
   "execution_count": 47,
   "metadata": {},
   "outputs": [],
   "source": [
    "from pricing import BlackScholesMerton, GeometricBrownianMotion, Heston\n",
    "from configuration import ConfigurationBuilder\n",
    "\n",
    "configuration_obj = ConfigurationBuilder(\n",
    "\n",
    "    # Common Parameters\n",
    "    spot=4140.0,\n",
    "    strike=4140.0,\n",
    "    sigma=0.20,\n",
    "    maturity=365,\n",
    "    risk_free_rate=0,\n",
    "    dividend_yield=0,\n",
    "\n",
    "    # Monte carlo Parameters\n",
    "    simulation=20000,\n",
    "    steps=365,\n",
    "\n",
    "    # Heston Parameters\n",
    "    lt_sigma=0.19,\n",
    "    rate_reversion=0.1,\n",
    "    sigma_sigma=1.10,\n",
    "    correlation=-0.7\n",
    ")"
   ]
  },
  {
   "cell_type": "code",
   "execution_count": 48,
   "metadata": {},
   "outputs": [],
   "source": [
    "def barrier_builder(strike: float, barrier: float, shift: float = 1.0):\n",
    "    \"\"\" Docstring \"\"\"\n",
    "    return abs(barrier - strike) / shift"
   ]
  },
  {
   "cell_type": "code",
   "execution_count": 75,
   "metadata": {},
   "outputs": [],
   "source": [
    "def barrier_builder_(strike: float, barrier: float, shift: float = 1.0):\n",
    "    \"\"\" Docstring \"\"\"\n",
    "    return (abs(barrier - strike) - shift) / shift"
   ]
  },
  {
   "cell_type": "code",
   "execution_count": 49,
   "metadata": {},
   "outputs": [],
   "source": [
    "configuration_obj.strike = 4140\n",
    "option_1 = BlackScholesMerton(configuration_obj)\n",
    "\n",
    "configuration_obj.strike = 4968\n",
    "option_2 = BlackScholesMerton(configuration_obj)\n",
    "\n",
    "configuration_obj.strike = 4968 + 1\n",
    "option_3 = BlackScholesMerton(configuration_obj)"
   ]
  },
  {
   "cell_type": "code",
   "execution_count": 76,
   "metadata": {},
   "outputs": [],
   "source": [
    "q = barrier_builder_(4140, 4968, 150)"
   ]
  },
  {
   "cell_type": "code",
   "execution_count": 63,
   "metadata": {},
   "outputs": [],
   "source": [
    "call_up_out_price = option_1.call_price() - option_2.call_price() * (q + 1) + option_3.call_price() * q\n",
    "\n",
    "call_up_out_delta = option_1.call_delta() - option_2.call_delta() * (q + 1) + option_3.call_delta() * q\n",
    "\n",
    "call_up_out_gamma = option_1.gamma() - option_2.gamma() * (q + 1) + option_3.gamma() * q\n",
    "\n",
    "call_up_out_vega = option_1.vega() - option_2.vega() * (q + 1) + option_3.vega() * q\n",
    "\n",
    "call_up_out_rho = option_1.call_rho() - option_2.call_rho() * (q + 1) + option_3.call_rho() * q\n",
    "\n",
    "call_up_out_theta = option_1.call_theta() - option_2.call_theta() * (q + 1) + option_3.call_theta() * q"
   ]
  },
  {
   "cell_type": "code",
   "execution_count": 64,
   "metadata": {},
   "outputs": [
    {
     "data": {
      "text/plain": [
       "(227.82509964788642,\n",
       " 0.3071267427751856,\n",
       " 0.00010907106053526308,\n",
       " 3.7388686983003936,\n",
       " 10.436796154413628,\n",
       " -0.1024347588575445)"
      ]
     },
     "execution_count": 64,
     "metadata": {},
     "output_type": "execute_result"
    }
   ],
   "source": [
    "call_up_out_price, call_up_out_delta, call_up_out_gamma, call_up_out_vega, call_up_out_rho, call_up_out_theta"
   ]
  },
  {
   "cell_type": "code",
   "execution_count": 55,
   "metadata": {},
   "outputs": [
    {
     "data": {
      "text/plain": [
       "20.0"
      ]
     },
     "execution_count": 55,
     "metadata": {},
     "output_type": "execute_result"
    }
   ],
   "source": [
    "barrier_builder(100, 80, 1)"
   ]
  },
  {
   "cell_type": "code",
   "execution_count": 59,
   "metadata": {},
   "outputs": [
    {
     "data": {
      "text/plain": [
       "19.0"
      ]
     },
     "execution_count": 59,
     "metadata": {},
     "output_type": "execute_result"
    }
   ],
   "source": [
    "barrier_builder_(100, 80, 1)"
   ]
  },
  {
   "cell_type": "code",
   "execution_count": null,
   "metadata": {},
   "outputs": [],
   "source": []
  }
 ],
 "metadata": {
  "kernelspec": {
   "display_name": "Python 3",
   "language": "python",
   "name": "python3"
  },
  "language_info": {
   "codemirror_mode": {
    "name": "ipython",
    "version": 3
   },
   "file_extension": ".py",
   "mimetype": "text/x-python",
   "name": "python",
   "nbconvert_exporter": "python",
   "pygments_lexer": "ipython3",
   "version": "3.8.5"
  }
 },
 "nbformat": 4,
 "nbformat_minor": 4
}
