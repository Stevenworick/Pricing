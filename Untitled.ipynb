{
 "cells": [
  {
   "cell_type": "markdown",
   "metadata": {},
   "source": [
    "Training set of ....\n",
    "<br>\n",
    "Notation:\n",
    "<br>\n",
    "m = Number of training exemple\n",
    "<br>\n",
    "x's = \"input\" variable / features\n",
    "<br>\n",
    "y's = \"output\" variable / \"target\"\n",
    "<br>\n",
    "training set -> Learning algorithm -> h\n",
    "<br>\n",
    "size of house -> h -> Estimated price\n",
    "<br> h is hypothesis"
   ]
  },
  {
   "cell_type": "code",
   "execution_count": null,
   "metadata": {},
   "outputs": [],
   "source": []
  }
 ],
 "metadata": {
  "kernelspec": {
   "display_name": "Python 3",
   "language": "python",
   "name": "python3"
  },
  "language_info": {
   "codemirror_mode": {
    "name": "ipython",
    "version": 3
   },
   "file_extension": ".py",
   "mimetype": "text/x-python",
   "name": "python",
   "nbconvert_exporter": "python",
   "pygments_lexer": "ipython3",
   "version": "3.8.5"
  }
 },
 "nbformat": 4,
 "nbformat_minor": 4
}
