{
 "cells": [
  {
   "cell_type": "markdown",
   "metadata": {},
   "source": [
    "## Local Volatility"
   ]
  },
  {
   "cell_type": "markdown",
   "metadata": {},
   "source": [
    "### Reminder"
   ]
  },
  {
   "cell_type": "markdown",
   "metadata": {},
   "source": [
    "The local volatility of the underlying assets is a deterministic function of assets price and the time t.\n",
    "<br>\n",
    "<br>\n",
    "<center>$ \\sigma = \\sigma (S_{t}, t) $</center>\n",
    "<br>\n",
    "Therefore with the local volatility model, the stochastic process followed by the stock price is :\n",
    "<br>\n",
    "<br>\n",
    "<center>$ dS_{t} = \\mu S_{t} dt + \\sigma (S_{t}, t) * dWt $</center>\n",
    "<br>\n",
    "<br>\n",
    "In order to calibrate the function $\\sigma (S_{t}, t)$ we use the Dupire's formula\n",
    "<br>\n",
    "<br>\n",
    "<center>$ \\sigma_{Local}(K, T) = \\sqrt{\\frac{\\displaystyle \\frac{\\partial C}{\\partial T}}{\\displaystyle \\frac{1}{2} K^2\\displaystyle \\frac{\\partial^2 C}{\\partial K^2}}} $</center>\n",
    "<br>\n",
    "<br>\n",
    "With\n",
    "<br>\n",
    "<br>\n",
    "<center>$\\displaystyle \\frac{\\partial C}{\\partial T} \\approx \\frac{C(K, T + \\Delta T) - C(K, T - \\Delta T) }{2 \\Delta t}$<center>\n",
    "<br>\n",
    "<br>\n",
    "<center>$\\displaystyle \\frac{\\partial^2 C}{\\partial K^2} \\approx \\frac{C(K,-\\Delta K, T) - 2C(K, T)+ C(K,+\\Delta K, T) }{(\\Delta K)^2}$<center>"
   ]
  },
  {
   "cell_type": "markdown",
   "metadata": {},
   "source": [
    "### Computation"
   ]
  },
  {
   "cell_type": "code",
   "execution_count": 1,
   "metadata": {},
   "outputs": [],
   "source": [
    "import numpy as np\n",
    "import pandas as pd\n",
    "import matplotlib.pyplot as plt\n",
    "from pricing import BlackScholesMerton\n",
    "from configuration import OptionConfigurationBuilder"
   ]
  },
  {
   "cell_type": "code",
   "execution_count": 2,
   "metadata": {},
   "outputs": [
    {
     "data": {
      "text/plain": [
       "0.20001790706420558"
      ]
     },
     "execution_count": 2,
     "metadata": {},
     "output_type": "execute_result"
    }
   ],
   "source": [
    "# Example\n",
    "\n",
    "configuration = OptionConfigurationBuilder(\n",
    "    kind='call',\n",
    "    strike=100,\n",
    "    spot= 100,\n",
    "    sigma=0.2,\n",
    "    risk_free_rate=0,\n",
    "    dividend_yield=0,\n",
    "    maturity=252\n",
    ")\n",
    "\n",
    "configuration.maturity = 253\n",
    "call_1 = BlackScholesMerton(configuration)\n",
    "\n",
    "configuration.maturity = 251\n",
    "call_2 = BlackScholesMerton(configuration)\n",
    "\n",
    "a = (call_1.price() - call_2.price()) / (2 * 1/252)\n",
    "\n",
    "configuration.maturity = 252\n",
    "\n",
    "configuration.strike = 99\n",
    "call_1 = BlackScholesMerton(configuration)\n",
    "\n",
    "configuration.strike = 100\n",
    "call_2 = BlackScholesMerton(configuration)\n",
    "\n",
    "configuration.strike = 101\n",
    "call_3 = BlackScholesMerton(configuration)\n",
    "\n",
    "b = (call_1.price() -2 * call_2.price() + call_3.price()) / 1\n",
    "\n",
    "iv =  np.sqrt(a / ((1/2) * 100**2 * b))\n",
    "\n",
    "iv"
   ]
  },
  {
   "cell_type": "code",
   "execution_count": 7,
   "metadata": {},
   "outputs": [
    {
     "data": {
      "text/plain": [
       "True"
      ]
     },
     "execution_count": 7,
     "metadata": {},
     "output_type": "execute_result"
    }
   ],
   "source": [
    "configuration.sigma == np.round(iv, 2)"
   ]
  }
 ],
 "metadata": {
  "kernelspec": {
   "display_name": "Python 3",
   "language": "python",
   "name": "python3"
  },
  "language_info": {
   "codemirror_mode": {
    "name": "ipython",
    "version": 3
   },
   "file_extension": ".py",
   "mimetype": "text/x-python",
   "name": "python",
   "nbconvert_exporter": "python",
   "pygments_lexer": "ipython3",
   "version": "3.8.5"
  }
 },
 "nbformat": 4,
 "nbformat_minor": 4
}
